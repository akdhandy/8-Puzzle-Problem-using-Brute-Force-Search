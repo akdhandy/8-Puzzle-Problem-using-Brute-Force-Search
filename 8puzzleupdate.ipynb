{
 "cells": [
  {
   "cell_type": "code",
   "execution_count": 2,
   "metadata": {},
   "outputs": [],
   "source": [
    "\n",
    "import numpy as np\n",
    "import os  \n",
    "import copy\n",
    "\n",
    "initial_state = []\n",
    "\n",
    "\n",
    "def get_initial():\n",
    "    print(\"Enter number from 0-8\")\n",
    "    initial_state = np.zeros(9)\n",
    "    for i in range(9):\n",
    "        states = int(input(\"Enter the number: \"))\n",
    "        initial_state[i] = np.array(states)\n",
    "        print(initial_state)\n",
    "    initial_state = np.reshape(initial_state,(3,3))\n",
    "    return initial_state\n",
    "\n",
    "\n",
    "def find_index(puzzle):\n",
    "    for i in range(len(puzzle[0])):\n",
    "        for j in range(len(puzzle[0])):\n",
    "            if puzzle[i][j] == 0:\n",
    "                return i,j\n",
    "            \n",
    "\n",
    "def move_left(data):\n",
    "    temp_arr = copy.deepcopy(data)\n",
    "    i, j = find_index(temp_arr)\n",
    "    if j != 0:\n",
    "        temp = temp_arr[i, j - 1]\n",
    "        temp_arr[i, j] = temp\n",
    "        temp_arr[i, j - 1] = 0\n",
    "        print(\"Left motion\")\n",
    "        return temp_arr\n",
    "    else:\n",
    "        print(\"No left motion\")\n",
    "        return None\n",
    "\n",
    "\n",
    "def move_right(data):\n",
    "    i, j = find_index(data)\n",
    "    if j != 2:\n",
    "        temp_arr = np.copy(data)\n",
    "        temp = temp_arr[i, j + 1]\n",
    "        temp_arr[i, j] = temp\n",
    "        temp_arr[i, j + 1] = 0\n",
    "        print(\"Right motion\")\n",
    "        return temp_arr\n",
    "    else:\n",
    "        print(\"No right motion\")\n",
    "        return None\n",
    "\n",
    "def move_up(data):\n",
    "    i, j = find_index(data)\n",
    "    if i != 0:\n",
    "        temp_arr = np.copy(data)\n",
    "        temp = temp_arr[i - 1, j]\n",
    "        temp_arr[i, j] = temp\n",
    "        temp_arr[i - 1, j] = 0\n",
    "        print(\"Up motion\")\n",
    "        return temp_arr\n",
    "    else:\n",
    "        print(\"No up motion\")\n",
    "        return None\n",
    "\n",
    "\n",
    "def move_down(data):\n",
    "    i, j = find_index(data)\n",
    "    if i != 2:\n",
    "        temp_arr = np.copy(data)\n",
    "        temp = temp_arr[i + 1, j]\n",
    "        temp_arr[i, j] = temp\n",
    "        temp_arr[i + 1, j] = 0\n",
    "        print(\"Down motion\")\n",
    "        return temp_arr\n",
    "        \n",
    "    else:\n",
    "        print(\"No down motion\")\n",
    "        return None\n",
    "\n",
    "#to check and append in the parent node\n",
    "def check_and_append(p_node, new_node, count):\n",
    "    \n",
    "    for i in range(count):\n",
    "        if (p_node[i]==new_node):  \n",
    "            j=0\n",
    "            break\n",
    "        \n",
    "    if j:\n",
    "        p_node.append(new_node)\n",
    "        count+=1\n",
    "    return p_node, count\n",
    "\n",
    "# to check if the goal is reached\n",
    "def goal_check(B,goal_node):\n",
    "    status = np.array_equal(B,goal_node)\n",
    "    return status\n",
    "\n",
    "# initializing the goal node\n",
    "goal_node = np.array([[1,2,3],[4,5,6],[7,8,0]])\n",
    "\n",
    "child_index=[]\n",
    "\n",
    "while len(child_index)>0:\n",
    "\n",
    "    temp_index = []\n",
    "    for i in child_index:\n",
    "\n",
    "        new_node, status = move_up(node_list)\n",
    "\n",
    "        if status == True:\n",
    "            child_node_number += 1\n",
    "            temp_index.append(child_node_number)\n",
    "            node_list.append(new_node)\n",
    "            temp_node_info = np.array([child_node_number,i,0])\n",
    "            node_info.append(temp_node_info)\n",
    "            node_set.add(set_conversion(new_node))\n",
    "\n",
    "            if goal_check(new_node,goal_node):\n",
    "                found = True\n",
    "                goal_index = child_node_number\n",
    "                break\n",
    "\n",
    "        new_node, status = move_down(node_list[i])\n",
    "\n",
    "        if status == True:\n",
    "            child_node_number += 1\n",
    "            node_list.append(new_node)\n",
    "            temp_node_info = np.array([child_node_number,i,0])\n",
    "            node_info.append(temp_node_info)\n",
    "            temp_index.append(child_node_number)\n",
    "            node_set.add(set_conversion(new_node))\n",
    "    \n",
    "            if goal_check(new_node,goal_node):\n",
    "                found = True\n",
    "                goal_index = child_node_number\n",
    "                break\n",
    "\n",
    "        new_node, status = move_right(node_list[i])\n",
    "\n",
    "        if status == True: \n",
    "            child_node_number += 1\n",
    "            node_list.append(new_node)\n",
    "            temp_node_info = np.array([child_node_number,i,0])\n",
    "            node_info.append(temp_node_info)\n",
    "            temp_index.append(child_node_number)\n",
    "            node_set.add(set_conversion(new_node))\n",
    "    \n",
    "            if goal_check(new_node,goal_node):\n",
    "                found = True\n",
    "                goal_index = child_node_number\n",
    "                break\n",
    "\n",
    "        new_node, status = move_left(node_list[i])\n",
    "\n",
    "        if status == True:\n",
    "            child_node_number += 1\n",
    "            node_list.append(new_node)\n",
    "            temp_node_info = np.array([child_node_number,i,0])\n",
    "            node_info.append(temp_node_info)\n",
    "            temp_index.append(child_node_number)\n",
    "            node_set.add(set_conversion(new_node))\n",
    "    \n",
    "            if goal_check(new_node,goal_node):\n",
    "                found = True\n",
    "                goal_index = child_node_number\n",
    "                break\n",
    "\n",
    "\n",
    "\n"
   ]
  },
  {
   "cell_type": "code",
   "execution_count": 3,
   "metadata": {},
   "outputs": [
    {
     "name": "stdout",
     "output_type": "stream",
     "text": [
      "Enter number from 0-8\n",
      "Enter the number: 1\n",
      "[ 1.  0.  0.  0.  0.  0.  0.  0.  0.]\n",
      "Enter the number: 2\n",
      "[ 1.  2.  0.  0.  0.  0.  0.  0.  0.]\n",
      "Enter the number: 3\n",
      "[ 1.  2.  3.  0.  0.  0.  0.  0.  0.]\n",
      "Enter the number: 4\n",
      "[ 1.  2.  3.  4.  0.  0.  0.  0.  0.]\n",
      "Enter the number: 0\n",
      "[ 1.  2.  3.  4.  0.  0.  0.  0.  0.]\n",
      "Enter the number: 5\n",
      "[ 1.  2.  3.  4.  0.  5.  0.  0.  0.]\n",
      "Enter the number: 6\n",
      "[ 1.  2.  3.  4.  0.  5.  6.  0.  0.]\n",
      "Enter the number: 7\n",
      "[ 1.  2.  3.  4.  0.  5.  6.  7.  0.]\n",
      "Enter the number: 8\n",
      "[ 1.  2.  3.  4.  0.  5.  6.  7.  8.]\n"
     ]
    }
   ],
   "source": [
    "state = get_initial()"
   ]
  },
  {
   "cell_type": "code",
   "execution_count": 4,
   "metadata": {},
   "outputs": [
    {
     "name": "stdout",
     "output_type": "stream",
     "text": [
      "[[ 1.  2.  3.]\n",
      " [ 4.  0.  5.]\n",
      " [ 6.  7.  8.]]\n"
     ]
    }
   ],
   "source": [
    "first_node = copy.deepcopy(state)\n",
    "print(state)"
   ]
  },
  {
   "cell_type": "code",
   "execution_count": 5,
   "metadata": {},
   "outputs": [
    {
     "data": {
      "text/plain": [
       "(1, 1)"
      ]
     },
     "execution_count": 5,
     "metadata": {},
     "output_type": "execute_result"
    }
   ],
   "source": [
    "find_index(first_node)"
   ]
  },
  {
   "cell_type": "code",
   "execution_count": 6,
   "metadata": {},
   "outputs": [
    {
     "data": {
      "text/plain": [
       "array([[ 1.,  2.,  3.],\n",
       "       [ 4.,  0.,  5.],\n",
       "       [ 6.,  7.,  8.]])"
      ]
     },
     "execution_count": 6,
     "metadata": {},
     "output_type": "execute_result"
    }
   ],
   "source": [
    "state"
   ]
  },
  {
   "cell_type": "code",
   "execution_count": 7,
   "metadata": {},
   "outputs": [
    {
     "name": "stdout",
     "output_type": "stream",
     "text": [
      "Down motion\n"
     ]
    }
   ],
   "source": [
    "x = move_down(state)"
   ]
  },
  {
   "cell_type": "code",
   "execution_count": 8,
   "metadata": {},
   "outputs": [
    {
     "data": {
      "text/plain": [
       "array([[ 1.,  2.,  3.],\n",
       "       [ 4.,  7.,  5.],\n",
       "       [ 6.,  0.,  8.]])"
      ]
     },
     "execution_count": 8,
     "metadata": {},
     "output_type": "execute_result"
    }
   ],
   "source": [
    "x"
   ]
  },
  {
   "cell_type": "code",
   "execution_count": 9,
   "metadata": {},
   "outputs": [
    {
     "data": {
      "text/plain": [
       "array([[ 1.,  2.,  3.],\n",
       "       [ 4.,  0.,  5.],\n",
       "       [ 6.,  7.,  8.]])"
      ]
     },
     "execution_count": 9,
     "metadata": {},
     "output_type": "execute_result"
    }
   ],
   "source": [
    "state"
   ]
  },
  {
   "cell_type": "code",
   "execution_count": 10,
   "metadata": {},
   "outputs": [
    {
     "name": "stdout",
     "output_type": "stream",
     "text": [
      "Up motion\n"
     ]
    }
   ],
   "source": [
    "y = move_up(state)\n",
    "    "
   ]
  },
  {
   "cell_type": "code",
   "execution_count": 11,
   "metadata": {},
   "outputs": [
    {
     "data": {
      "text/plain": [
       "array([[ 1.,  0.,  3.],\n",
       "       [ 4.,  2.,  5.],\n",
       "       [ 6.,  7.,  8.]])"
      ]
     },
     "execution_count": 11,
     "metadata": {},
     "output_type": "execute_result"
    }
   ],
   "source": [
    "y"
   ]
  },
  {
   "cell_type": "code",
   "execution_count": 12,
   "metadata": {},
   "outputs": [
    {
     "data": {
      "text/plain": [
       "array([[ 1.,  2.,  3.],\n",
       "       [ 4.,  0.,  5.],\n",
       "       [ 6.,  7.,  8.]])"
      ]
     },
     "execution_count": 12,
     "metadata": {},
     "output_type": "execute_result"
    }
   ],
   "source": [
    "state"
   ]
  },
  {
   "cell_type": "code",
   "execution_count": 13,
   "metadata": {},
   "outputs": [
    {
     "name": "stdout",
     "output_type": "stream",
     "text": [
      "Left motion\n"
     ]
    }
   ],
   "source": [
    "z = move_left(state)"
   ]
  },
  {
   "cell_type": "code",
   "execution_count": 14,
   "metadata": {},
   "outputs": [
    {
     "data": {
      "text/plain": [
       "array([[ 1.,  2.,  3.],\n",
       "       [ 0.,  4.,  5.],\n",
       "       [ 6.,  7.,  8.]])"
      ]
     },
     "execution_count": 14,
     "metadata": {},
     "output_type": "execute_result"
    }
   ],
   "source": [
    "z\n"
   ]
  },
  {
   "cell_type": "code",
   "execution_count": 17,
   "metadata": {},
   "outputs": [
    {
     "data": {
      "text/plain": [
       "array([[ 1.,  2.,  3.],\n",
       "       [ 4.,  0.,  5.],\n",
       "       [ 6.,  7.,  8.]])"
      ]
     },
     "execution_count": 17,
     "metadata": {},
     "output_type": "execute_result"
    }
   ],
   "source": [
    "state"
   ]
  },
  {
   "cell_type": "code",
   "execution_count": 15,
   "metadata": {},
   "outputs": [
    {
     "name": "stdout",
     "output_type": "stream",
     "text": [
      "Right motion\n"
     ]
    }
   ],
   "source": [
    "p = move_right(state)"
   ]
  },
  {
   "cell_type": "code",
   "execution_count": 16,
   "metadata": {},
   "outputs": [
    {
     "data": {
      "text/plain": [
       "array([[ 1.,  2.,  3.],\n",
       "       [ 4.,  5.,  0.],\n",
       "       [ 6.,  7.,  8.]])"
      ]
     },
     "execution_count": 16,
     "metadata": {},
     "output_type": "execute_result"
    }
   ],
   "source": [
    "p"
   ]
  },
  {
   "cell_type": "code",
   "execution_count": 18,
   "metadata": {},
   "outputs": [
    {
     "data": {
      "text/plain": [
       "array([[1, 2, 3],\n",
       "       [4, 5, 6],\n",
       "       [7, 8, 0]])"
      ]
     },
     "execution_count": 18,
     "metadata": {},
     "output_type": "execute_result"
    }
   ],
   "source": [
    "goal_node"
   ]
  },
  {
   "cell_type": "code",
   "execution_count": null,
   "metadata": {},
   "outputs": [],
   "source": []
  }
 ],
 "metadata": {
  "kernelspec": {
   "display_name": "Python 2",
   "language": "python",
   "name": "python2"
  },
  "language_info": {
   "codemirror_mode": {
    "name": "ipython",
    "version": 2
   },
   "file_extension": ".py",
   "mimetype": "text/x-python",
   "name": "python",
   "nbconvert_exporter": "python",
   "pygments_lexer": "ipython2",
   "version": "2.7.12"
  }
 },
 "nbformat": 4,
 "nbformat_minor": 2
}
