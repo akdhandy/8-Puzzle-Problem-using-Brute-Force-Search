{
 "cells": [
  {
   "cell_type": "code",
   "execution_count": 112,
   "metadata": {},
   "outputs": [
    {
     "name": "stdout",
     "output_type": "stream",
     "text": [
      "Enter number from 0-8\n",
      "Enter the number: 1\n",
      "Enter the number: 0\n",
      "Enter the number: 3\n",
      "Enter the number: 4\n",
      "Enter the number: 2\n",
      "Enter the number: 5\n",
      "Enter the number: 7\n",
      "Enter the number: 8\n",
      "Enter the number: 6\n",
      "[ 1.  0.  3.  4.  2.  5.  7.  8.  6.]\n",
      "child index total\n",
      "[array([[ 1.,  0.,  3.],\n",
      "       [ 4.,  2.,  5.],\n",
      "       [ 7.,  8.,  6.]])]\n",
      "child index 1.\n",
      "[[ 1.  0.  3.]\n",
      " [ 4.  2.  5.]\n",
      " [ 7.  8.  6.]]\n",
      "Solvable\n",
      "Left motion\n",
      "[[ 0.  1.  3.]\n",
      " [ 4.  2.  5.]\n",
      " [ 7.  8.  6.]]\n",
      "Appended\n",
      "True\n",
      "No up motion\n",
      "[[ 1.  0.  3.]\n",
      " [ 4.  2.  5.]\n",
      " [ 7.  8.  6.]]\n",
      "Not equal, Not appended\n",
      "False\n",
      "Right motion\n",
      "[[ 1.  3.  0.]\n",
      " [ 4.  2.  5.]\n",
      " [ 7.  8.  6.]]\n",
      "Appended\n",
      "True\n",
      "Down motion\n",
      "[[ 1.  2.  3.]\n",
      " [ 4.  0.  5.]\n",
      " [ 7.  8.  6.]]\n",
      "Appended\n",
      "True\n",
      "No left motion\n",
      "[[ 0.  1.  3.]\n",
      " [ 4.  2.  5.]\n",
      " [ 7.  8.  6.]]\n",
      "Not equal, Not appended\n",
      "False\n",
      "No up motion\n",
      "[[ 0.  1.  3.]\n",
      " [ 4.  2.  5.]\n",
      " [ 7.  8.  6.]]\n",
      "Not equal, Not appended\n",
      "False\n",
      "Right motion\n",
      "[[ 1.  0.  3.]\n",
      " [ 4.  2.  5.]\n",
      " [ 7.  8.  6.]]\n",
      "Not equal, Not appended\n",
      "False\n",
      "Down motion\n",
      "[[ 4.  1.  3.]\n",
      " [ 0.  2.  5.]\n",
      " [ 7.  8.  6.]]\n",
      "Appended\n",
      "True\n",
      "Left motion\n",
      "[[ 1.  0.  3.]\n",
      " [ 4.  2.  5.]\n",
      " [ 7.  8.  6.]]\n",
      "Not equal, Not appended\n",
      "False\n",
      "No up motion\n",
      "[[ 1.  3.  0.]\n",
      " [ 4.  2.  5.]\n",
      " [ 7.  8.  6.]]\n",
      "Not equal, Not appended\n",
      "False\n",
      "No right motion\n",
      "[[ 1.  3.  0.]\n",
      " [ 4.  2.  5.]\n",
      " [ 7.  8.  6.]]\n",
      "Not equal, Not appended\n",
      "False\n",
      "Down motion\n",
      "[[ 1.  3.  5.]\n",
      " [ 4.  2.  0.]\n",
      " [ 7.  8.  6.]]\n",
      "Appended\n",
      "True\n",
      "Left motion\n",
      "[[ 1.  2.  3.]\n",
      " [ 0.  4.  5.]\n",
      " [ 7.  8.  6.]]\n",
      "Appended\n",
      "True\n",
      "Up motion\n",
      "[[ 1.  0.  3.]\n",
      " [ 4.  2.  5.]\n",
      " [ 7.  8.  6.]]\n",
      "Not equal, Not appended\n",
      "False\n",
      "Right motion\n",
      "[[ 1.  2.  3.]\n",
      " [ 4.  5.  0.]\n",
      " [ 7.  8.  6.]]\n",
      "Appended\n",
      "True\n",
      "Down motion\n",
      "[[ 1.  2.  3.]\n",
      " [ 4.  8.  5.]\n",
      " [ 7.  0.  6.]]\n",
      "Appended\n",
      "True\n",
      "No left motion\n",
      "[[ 4.  1.  3.]\n",
      " [ 0.  2.  5.]\n",
      " [ 7.  8.  6.]]\n",
      "Not equal, Not appended\n",
      "False\n",
      "Up motion\n",
      "[[ 0.  1.  3.]\n",
      " [ 4.  2.  5.]\n",
      " [ 7.  8.  6.]]\n",
      "Not equal, Not appended\n",
      "False\n",
      "Right motion\n",
      "[[ 4.  1.  3.]\n",
      " [ 2.  0.  5.]\n",
      " [ 7.  8.  6.]]\n",
      "Appended\n",
      "True\n",
      "Down motion\n",
      "[[ 4.  1.  3.]\n",
      " [ 7.  2.  5.]\n",
      " [ 0.  8.  6.]]\n",
      "Appended\n",
      "True\n",
      "Left motion\n",
      "[[ 1.  3.  5.]\n",
      " [ 4.  0.  2.]\n",
      " [ 7.  8.  6.]]\n",
      "Appended\n",
      "True\n",
      "Up motion\n",
      "[[ 1.  3.  0.]\n",
      " [ 4.  2.  5.]\n",
      " [ 7.  8.  6.]]\n",
      "Not equal, Not appended\n",
      "False\n",
      "No right motion\n",
      "[[ 1.  3.  5.]\n",
      " [ 4.  2.  0.]\n",
      " [ 7.  8.  6.]]\n",
      "Not equal, Not appended\n",
      "False\n",
      "Down motion\n",
      "[[ 1.  3.  5.]\n",
      " [ 4.  2.  6.]\n",
      " [ 7.  8.  0.]]\n",
      "Appended\n",
      "True\n",
      "No left motion\n",
      "[[ 1.  2.  3.]\n",
      " [ 0.  4.  5.]\n",
      " [ 7.  8.  6.]]\n",
      "Not equal, Not appended\n",
      "False\n",
      "Up motion\n",
      "[[ 0.  2.  3.]\n",
      " [ 1.  4.  5.]\n",
      " [ 7.  8.  6.]]\n",
      "Appended\n",
      "True\n",
      "Right motion\n",
      "[[ 1.  2.  3.]\n",
      " [ 4.  0.  5.]\n",
      " [ 7.  8.  6.]]\n",
      "Not equal, Not appended\n",
      "False\n",
      "Down motion\n",
      "[[ 1.  2.  3.]\n",
      " [ 7.  4.  5.]\n",
      " [ 0.  8.  6.]]\n",
      "Appended\n",
      "True\n",
      "Left motion\n",
      "[[ 1.  2.  3.]\n",
      " [ 4.  0.  5.]\n",
      " [ 7.  8.  6.]]\n",
      "Not equal, Not appended\n",
      "False\n",
      "Up motion\n",
      "[[ 1.  2.  0.]\n",
      " [ 4.  5.  3.]\n",
      " [ 7.  8.  6.]]\n",
      "Appended\n",
      "True\n",
      "No right motion\n",
      "[[ 1.  2.  3.]\n",
      " [ 4.  5.  0.]\n",
      " [ 7.  8.  6.]]\n",
      "Not equal, Not appended\n",
      "False\n",
      "Down motion\n",
      "[[ 1.  2.  3.]\n",
      " [ 4.  5.  6.]\n",
      " [ 7.  8.  0.]]\n",
      "Appended\n",
      "True\n",
      "total time:\n",
      "6.64791989326\n"
     ]
    }
   ],
   "source": [
    "import time\n",
    "import numpy as np\n",
    "import os\n",
    "import copy\n",
    "\n",
    "initial_state = []\n",
    "\n",
    "\n",
    "def get_initial():\n",
    "    print(\"Enter number from 0-8\")\n",
    "    initial_state = np.zeros(9)\n",
    "    for i in range(9):\n",
    "        states = int(input(\"Enter the number: \"))\n",
    "        initial_state[i] = np.array(states)\n",
    "    print(initial_state)\n",
    "    initial_state = np.reshape(initial_state,(3,3))\n",
    "    return initial_state\n",
    "\n",
    "\n",
    "def find_index(puzzle):\n",
    "    for i in range(3):\n",
    "        for j in range(3):\n",
    "            if puzzle[i][j] == 0:\n",
    "                return i,j\n",
    "\n",
    "#def blank_tile_location(A):\n",
    "    #loc = np.argwhere(A == 0)\n",
    "    #return loc            \n",
    "            \n",
    "\n",
    "def move_left(data):\n",
    "    temp_arr = copy.deepcopy(data)\n",
    "    i, j = find_index(temp_arr)\n",
    "    if j != 0:\n",
    "        temp = temp_arr[i, j - 1]\n",
    "        temp_arr[i, j] = temp\n",
    "        temp_arr[i, j - 1] = 0\n",
    "        print(\"Left motion\")\n",
    "        return temp_arr\n",
    "    else:\n",
    "        print(\"No left motion\")\n",
    "        return temp_arr\n",
    "\n",
    "\n",
    "def move_right(data):\n",
    "    temp_arr = copy.deepcopy(data)\n",
    "    i, j = find_index(data)\n",
    "    if j != 2:\n",
    "        temp = temp_arr[i, j + 1]\n",
    "        temp_arr[i, j] = temp\n",
    "        temp_arr[i, j + 1] = 0\n",
    "        print(\"Right motion\")\n",
    "        return temp_arr\n",
    "    else:\n",
    "        print(\"No right motion\")\n",
    "        return temp_arr\n",
    "\n",
    "def move_up(data):\n",
    "    temp_arr = copy.deepcopy(data)\n",
    "    i, j = find_index(data)\n",
    "    if i != 0:\n",
    "        temp_arr = np.copy(data)\n",
    "        temp = temp_arr[i - 1, j]\n",
    "        temp_arr[i, j] = temp\n",
    "        temp_arr[i - 1, j] = 0\n",
    "        print(\"Up motion\")\n",
    "        return temp_arr\n",
    "    else:\n",
    "        print(\"No up motion\")\n",
    "        return temp_arr\n",
    "\n",
    "\n",
    "def move_down(data):\n",
    "    temp_arr = copy.deepcopy(data)\n",
    "    i, j = find_index(data)\n",
    "    if i != 2:\n",
    "        temp_arr = np.copy(data)\n",
    "        temp = temp_arr[i + 1, j]\n",
    "        temp_arr[i, j] = temp\n",
    "        temp_arr[i + 1, j] = 0\n",
    "        print(\"Down motion\")\n",
    "        return temp_arr\n",
    "        \n",
    "    else:\n",
    "        print(\"No down motion\")\n",
    "        return temp_arr\n",
    "\n",
    "def sol(ip_node):\n",
    "    z = []\n",
    "    inv = 0\n",
    "    for i in range(3):\n",
    "        for j in range(3):\n",
    "            if (ip_node[i][j]!=0):\n",
    "                z.append(ip_node[i][j])            \n",
    "    for i in range(7):\n",
    "        j=i+1\n",
    "        while(j<8):\n",
    "            if z[i]>z[j]:\n",
    "                inv += 1\n",
    "            j += 1\n",
    "    if inv % 2:\n",
    "        print(\"Unsolvable\")\n",
    "        return 0\n",
    "    else:\n",
    "        print(\"Solvable\")\n",
    "        return 1\n",
    "\n",
    "\n",
    "#to check and append in the parent node\n",
    "def check_and_append(p_node, new_node, count):\n",
    "    stat=False\n",
    "    q = 1\n",
    "    \n",
    "    for l in p_node:\n",
    "        if (l == new_node).all():  \n",
    "            q = 0\n",
    "            print(\"Not equal, Not appended\")\n",
    "            \n",
    "    \n",
    "    if q == 1:\n",
    "        print(\"Appended\")\n",
    "        visited_nodes.append(new_node)\n",
    "        stat=True\n",
    "    return count, stat\n",
    "\n",
    "\n",
    "# to check if the goal is reached\n",
    "def goal_check(B,goal_node):\n",
    "    status = np.array_equal(B,goal_node)\n",
    "    return status\n",
    "\n",
    "# initializing the goal node\n",
    "goal_node = np.array([[1,2,3],[4,5,6],[7,8,0]])\n",
    "\n",
    "start_time=time.time()\n",
    "\n",
    "visited_nodes=[]\n",
    "initial_array = get_initial()\n",
    "visited_nodes.append(initial_array)\n",
    "child_node_number=1\n",
    "print(\"child index total\")\n",
    "print(visited_nodes)\n",
    "print(\"child index 1.\")\n",
    "print(visited_nodes[0])\n",
    "temp_index = []\n",
    "i=0\n",
    "\n",
    "\n",
    "if (sol(initial_array)):\n",
    "\n",
    "    while (i < child_node_number):\n",
    "\n",
    "        node_list = visited_nodes[i]\n",
    "\n",
    "\n",
    "        new_node = move_left(node_list)\n",
    "        print(new_node)\n",
    "        child_node_number, status = check_and_append(visited_nodes, new_node, child_node_number)\n",
    "        print(status)\n",
    "        if status == True:\n",
    "            child_node_number += 1\n",
    "            temp_index.append(child_node_number)\n",
    "\n",
    "\n",
    "        if goal_check(new_node,goal_node):\n",
    "            found = True\n",
    "            break\n",
    "\n",
    "\n",
    "\n",
    "\n",
    "        new_node = move_up(node_list)\n",
    "        print(new_node)\n",
    "        child_node_number, status=check_and_append(visited_nodes, new_node, child_node_number)\n",
    "        print(status)\n",
    "        if status == True:\n",
    "            child_node_number += 1\n",
    "            temp_index.append(child_node_number)\n",
    "\n",
    "\n",
    "        if goal_check(new_node,goal_node):\n",
    "            found = True       \n",
    "            break\n",
    "\n",
    "\n",
    "\n",
    "        new_node = move_right(node_list)\n",
    "        print(new_node)\n",
    "        child_node_number, status=check_and_append(visited_nodes, new_node, child_node_number)\n",
    "        print(status)\n",
    "        if status == True: \n",
    "            child_node_number += 1\n",
    "            temp_index.append(child_node_number)\n",
    "\n",
    "\n",
    "        if goal_check(new_node,goal_node):\n",
    "            found = True\n",
    "            break\n",
    "\n",
    "\n",
    "\n",
    "        new_node = move_down(node_list)\n",
    "        print(new_node)\n",
    "        child_node_number, status=check_and_append(visited_nodes, new_node, child_node_number)\n",
    "        print(status)\n",
    "        if status == True:\n",
    "            child_node_number += 1\n",
    "            temp_index.append(child_node_number)\n",
    "\n",
    "        if goal_check(new_node,goal_node):\n",
    "            found = True\n",
    "            break\n",
    "\n",
    "\n",
    "            print(visited_nodes)    \n",
    "            print(child_node_number)\n",
    "        i+=1\n",
    "\n",
    "print(\"total time:\")\n",
    "print(time.time()-start_time) \n"
   ]
  },
  {
   "cell_type": "markdown",
   "metadata": {},
   "source": [
    "## node_list"
   ]
  },
  {
   "cell_type": "code",
   "execution_count": 110,
   "metadata": {},
   "outputs": [
    {
     "data": {
      "text/plain": [
       "[array([[ 1.,  0.,  3.],\n",
       "        [ 4.,  2.,  5.],\n",
       "        [ 7.,  8.,  6.]]), array([[ 0.,  1.,  3.],\n",
       "        [ 4.,  2.,  5.],\n",
       "        [ 7.,  8.,  6.]]), array([[ 1.,  3.,  0.],\n",
       "        [ 4.,  2.,  5.],\n",
       "        [ 7.,  8.,  6.]]), array([[ 1.,  2.,  3.],\n",
       "        [ 4.,  0.,  5.],\n",
       "        [ 7.,  8.,  6.]]), array([[ 4.,  1.,  3.],\n",
       "        [ 0.,  2.,  5.],\n",
       "        [ 7.,  8.,  6.]]), array([[ 1.,  3.,  5.],\n",
       "        [ 4.,  2.,  0.],\n",
       "        [ 7.,  8.,  6.]]), array([[ 1.,  2.,  3.],\n",
       "        [ 0.,  4.,  5.],\n",
       "        [ 7.,  8.,  6.]]), array([[ 1.,  2.,  3.],\n",
       "        [ 4.,  5.,  0.],\n",
       "        [ 7.,  8.,  6.]]), array([[ 1.,  2.,  3.],\n",
       "        [ 4.,  8.,  5.],\n",
       "        [ 7.,  0.,  6.]]), array([[ 4.,  1.,  3.],\n",
       "        [ 2.,  0.,  5.],\n",
       "        [ 7.,  8.,  6.]]), array([[ 4.,  1.,  3.],\n",
       "        [ 7.,  2.,  5.],\n",
       "        [ 0.,  8.,  6.]]), array([[ 1.,  3.,  5.],\n",
       "        [ 4.,  0.,  2.],\n",
       "        [ 7.,  8.,  6.]]), array([[ 1.,  3.,  5.],\n",
       "        [ 4.,  2.,  6.],\n",
       "        [ 7.,  8.,  0.]]), array([[ 0.,  2.,  3.],\n",
       "        [ 1.,  4.,  5.],\n",
       "        [ 7.,  8.,  6.]]), array([[ 1.,  2.,  3.],\n",
       "        [ 7.,  4.,  5.],\n",
       "        [ 0.,  8.,  6.]]), array([[ 1.,  2.,  0.],\n",
       "        [ 4.,  5.,  3.],\n",
       "        [ 7.,  8.,  6.]]), array([[ 1.,  2.,  3.],\n",
       "        [ 4.,  5.,  6.],\n",
       "        [ 7.,  8.,  0.]])]"
      ]
     },
     "execution_count": 110,
     "metadata": {},
     "output_type": "execute_result"
    }
   ],
   "source": [
    "visited_nodes"
   ]
  },
  {
   "cell_type": "markdown",
   "metadata": {},
   "source": [
    "# state = get_initial()"
   ]
  },
  {
   "cell_type": "code",
   "execution_count": 3,
   "metadata": {},
   "outputs": [
    {
     "data": {
      "text/plain": [
       "[3,\n",
       " 5,\n",
       " 7,\n",
       " 9,\n",
       " 11,\n",
       " 13,\n",
       " 15,\n",
       " 17,\n",
       " 19,\n",
       " 21,\n",
       " 23,\n",
       " 25,\n",
       " 27,\n",
       " 29,\n",
       " 31,\n",
       " 33,\n",
       " 35,\n",
       " 37,\n",
       " 39,\n",
       " 41,\n",
       " 43,\n",
       " 45,\n",
       " 47,\n",
       " 49,\n",
       " 51,\n",
       " 53,\n",
       " 55,\n",
       " 57,\n",
       " 59,\n",
       " 61,\n",
       " 63,\n",
       " 65,\n",
       " 67,\n",
       " 69,\n",
       " 71,\n",
       " 73,\n",
       " 75,\n",
       " 77,\n",
       " 79,\n",
       " 81,\n",
       " 83,\n",
       " 85,\n",
       " 87,\n",
       " 89,\n",
       " 91,\n",
       " 93,\n",
       " 95,\n",
       " 97,\n",
       " 99,\n",
       " 101,\n",
       " 103,\n",
       " 105,\n",
       " 107,\n",
       " 109,\n",
       " 111,\n",
       " 113,\n",
       " 115,\n",
       " 117,\n",
       " 119,\n",
       " 121,\n",
       " 123,\n",
       " 125,\n",
       " 127,\n",
       " 129,\n",
       " 131,\n",
       " 133,\n",
       " 135,\n",
       " 137,\n",
       " 139,\n",
       " 141,\n",
       " 143,\n",
       " 145,\n",
       " 147,\n",
       " 149,\n",
       " 151,\n",
       " 153,\n",
       " 155,\n",
       " 157,\n",
       " 159,\n",
       " 161,\n",
       " 163,\n",
       " 165,\n",
       " 167,\n",
       " 169,\n",
       " 171,\n",
       " 173,\n",
       " 175,\n",
       " 177,\n",
       " 179,\n",
       " 181,\n",
       " 183,\n",
       " 185,\n",
       " 187,\n",
       " 189,\n",
       " 191,\n",
       " 193,\n",
       " 195,\n",
       " 197,\n",
       " 199,\n",
       " 201,\n",
       " 203,\n",
       " 205,\n",
       " 207,\n",
       " 209,\n",
       " 211,\n",
       " 213,\n",
       " 215,\n",
       " 217,\n",
       " 219,\n",
       " 221,\n",
       " 223,\n",
       " 225,\n",
       " 227,\n",
       " 229,\n",
       " 231,\n",
       " 233,\n",
       " 235,\n",
       " 237,\n",
       " 239,\n",
       " 241,\n",
       " 243,\n",
       " 245,\n",
       " 247,\n",
       " 249,\n",
       " 251,\n",
       " 253,\n",
       " 255,\n",
       " 257,\n",
       " 259,\n",
       " 261,\n",
       " 263,\n",
       " 265,\n",
       " 267,\n",
       " 269,\n",
       " 271,\n",
       " 273,\n",
       " 275,\n",
       " 277,\n",
       " 279,\n",
       " 281,\n",
       " 283,\n",
       " 285,\n",
       " 287,\n",
       " 289,\n",
       " 291,\n",
       " 293,\n",
       " 295,\n",
       " 297,\n",
       " 299,\n",
       " 301,\n",
       " 303,\n",
       " 305,\n",
       " 307,\n",
       " 309,\n",
       " 311,\n",
       " 313,\n",
       " 315,\n",
       " 317,\n",
       " 319,\n",
       " 321,\n",
       " 323,\n",
       " 325,\n",
       " 327,\n",
       " 329,\n",
       " 331,\n",
       " 333,\n",
       " 335,\n",
       " 337,\n",
       " 339,\n",
       " 341]"
      ]
     },
     "execution_count": 3,
     "metadata": {},
     "output_type": "execute_result"
    }
   ],
   "source": [
    "temp_index"
   ]
  },
  {
   "cell_type": "code",
   "execution_count": null,
   "metadata": {},
   "outputs": [],
   "source": [
    "first_node = copy.deepcopy(state)\n",
    "print(state)"
   ]
  },
  {
   "cell_type": "code",
   "execution_count": null,
   "metadata": {},
   "outputs": [],
   "source": [
    "visited_nodes[16]"
   ]
  },
  {
   "cell_type": "code",
   "execution_count": null,
   "metadata": {},
   "outputs": [],
   "source": [
    "find_index(first_node)"
   ]
  },
  {
   "cell_type": "code",
   "execution_count": 6,
   "metadata": {},
   "outputs": [
    {
     "data": {
      "text/plain": [
       "array([[ 1.,  2.,  3.],\n",
       "       [ 4.,  0.,  5.],\n",
       "       [ 6.,  7.,  8.]])"
      ]
     },
     "execution_count": 6,
     "metadata": {},
     "output_type": "execute_result"
    }
   ],
   "source": [
    "state"
   ]
  },
  {
   "cell_type": "code",
   "execution_count": 7,
   "metadata": {},
   "outputs": [
    {
     "name": "stdout",
     "output_type": "stream",
     "text": [
      "Down motion\n"
     ]
    }
   ],
   "source": [
    "x = move_down(state)"
   ]
  },
  {
   "cell_type": "code",
   "execution_count": 8,
   "metadata": {},
   "outputs": [
    {
     "data": {
      "text/plain": [
       "array([[ 1.,  2.,  3.],\n",
       "       [ 4.,  7.,  5.],\n",
       "       [ 6.,  0.,  8.]])"
      ]
     },
     "execution_count": 8,
     "metadata": {},
     "output_type": "execute_result"
    }
   ],
   "source": [
    "x"
   ]
  },
  {
   "cell_type": "code",
   "execution_count": 9,
   "metadata": {},
   "outputs": [
    {
     "data": {
      "text/plain": [
       "array([[ 1.,  2.,  3.],\n",
       "       [ 4.,  0.,  5.],\n",
       "       [ 6.,  7.,  8.]])"
      ]
     },
     "execution_count": 9,
     "metadata": {},
     "output_type": "execute_result"
    }
   ],
   "source": [
    "state"
   ]
  },
  {
   "cell_type": "code",
   "execution_count": 10,
   "metadata": {},
   "outputs": [
    {
     "name": "stdout",
     "output_type": "stream",
     "text": [
      "Up motion\n"
     ]
    }
   ],
   "source": [
    "y = move_up(state)\n",
    "    "
   ]
  },
  {
   "cell_type": "code",
   "execution_count": 11,
   "metadata": {},
   "outputs": [
    {
     "data": {
      "text/plain": [
       "array([[ 1.,  0.,  3.],\n",
       "       [ 4.,  2.,  5.],\n",
       "       [ 6.,  7.,  8.]])"
      ]
     },
     "execution_count": 11,
     "metadata": {},
     "output_type": "execute_result"
    }
   ],
   "source": [
    "y"
   ]
  },
  {
   "cell_type": "code",
   "execution_count": 12,
   "metadata": {},
   "outputs": [
    {
     "data": {
      "text/plain": [
       "array([[ 1.,  2.,  3.],\n",
       "       [ 4.,  0.,  5.],\n",
       "       [ 6.,  7.,  8.]])"
      ]
     },
     "execution_count": 12,
     "metadata": {},
     "output_type": "execute_result"
    }
   ],
   "source": [
    "state"
   ]
  },
  {
   "cell_type": "code",
   "execution_count": 13,
   "metadata": {},
   "outputs": [
    {
     "name": "stdout",
     "output_type": "stream",
     "text": [
      "Left motion\n"
     ]
    }
   ],
   "source": [
    "z = move_left(state)"
   ]
  },
  {
   "cell_type": "code",
   "execution_count": 14,
   "metadata": {},
   "outputs": [
    {
     "data": {
      "text/plain": [
       "array([[ 1.,  2.,  3.],\n",
       "       [ 0.,  4.,  5.],\n",
       "       [ 6.,  7.,  8.]])"
      ]
     },
     "execution_count": 14,
     "metadata": {},
     "output_type": "execute_result"
    }
   ],
   "source": [
    "z\n"
   ]
  },
  {
   "cell_type": "code",
   "execution_count": 17,
   "metadata": {},
   "outputs": [
    {
     "data": {
      "text/plain": [
       "array([[ 1.,  2.,  3.],\n",
       "       [ 4.,  0.,  5.],\n",
       "       [ 6.,  7.,  8.]])"
      ]
     },
     "execution_count": 17,
     "metadata": {},
     "output_type": "execute_result"
    }
   ],
   "source": [
    "state"
   ]
  },
  {
   "cell_type": "code",
   "execution_count": 15,
   "metadata": {},
   "outputs": [
    {
     "name": "stdout",
     "output_type": "stream",
     "text": [
      "Right motion\n"
     ]
    }
   ],
   "source": [
    "p = move_right(state)"
   ]
  },
  {
   "cell_type": "code",
   "execution_count": 16,
   "metadata": {},
   "outputs": [
    {
     "data": {
      "text/plain": [
       "array([[ 1.,  2.,  3.],\n",
       "       [ 4.,  5.,  0.],\n",
       "       [ 6.,  7.,  8.]])"
      ]
     },
     "execution_count": 16,
     "metadata": {},
     "output_type": "execute_result"
    }
   ],
   "source": [
    "p"
   ]
  },
  {
   "cell_type": "code",
   "execution_count": 18,
   "metadata": {},
   "outputs": [
    {
     "data": {
      "text/plain": [
       "array([[1, 2, 3],\n",
       "       [4, 5, 6],\n",
       "       [7, 8, 0]])"
      ]
     },
     "execution_count": 18,
     "metadata": {},
     "output_type": "execute_result"
    }
   ],
   "source": [
    "goal_node"
   ]
  },
  {
   "cell_type": "code",
   "execution_count": null,
   "metadata": {},
   "outputs": [],
   "source": []
  }
 ],
 "metadata": {
  "kernelspec": {
   "display_name": "Python 2",
   "language": "python",
   "name": "python2"
  },
  "language_info": {
   "codemirror_mode": {
    "name": "ipython",
    "version": 2
   },
   "file_extension": ".py",
   "mimetype": "text/x-python",
   "name": "python",
   "nbconvert_exporter": "python",
   "pygments_lexer": "ipython2",
   "version": "2.7.12"
  }
 },
 "nbformat": 4,
 "nbformat_minor": 2
}
